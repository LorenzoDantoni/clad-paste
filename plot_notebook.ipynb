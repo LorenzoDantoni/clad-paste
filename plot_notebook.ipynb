{
 "cells": [
  {
   "metadata": {
    "ExecuteTime": {
     "end_time": "2024-11-02T17:44:33.821594Z",
     "start_time": "2024-11-02T17:44:33.806170Z"
    }
   },
   "cell_type": "code",
   "source": [
    "import numpy as np\n",
    "import os\n",
    "import matplotlib.pyplot as plt"
   ],
   "id": "a167846534eb213c",
   "outputs": [],
   "execution_count": 45
  },
  {
   "cell_type": "code",
   "id": "initial_id",
   "metadata": {
    "collapsed": true,
    "ExecuteTime": {
     "end_time": "2024-11-02T17:44:33.852992Z",
     "start_time": "2024-11-02T17:44:33.826572Z"
    }
   },
   "source": [
    "joint_training_paste = [0.411] * 10\n",
    "\n",
    "finetuning = [\n",
    "\t[0.515], \n",
    "\t[0.102, 0.778], \n",
    "\t[0.072, 0.110, 0.524], \n",
    "\t[0.152, 0.181, 0.056, 0.484], \n",
    "\t[0.158, 0.119, 0.060, 0.052, 0.784], \n",
    "\t[0.174, 0.180, 0.108, 0.109, 0.383, 0.704],\n",
    "\t[0.132, 0.126, 0.056, 0.025, 0.449, 0.215, 0.615],\n",
    "\t[0.076, 0.116, 0.056, 0.025, 0.400, 0.465, 0.100, 0.484],\n",
    "\t[0.108, 0.164, 0.059, 0.058, 0.337, 0.123, 0.119, 0.120, 0.512],\n",
    "\t[0.073, 0.180, 0.081, 0.099, 0.210, 0.199, 0.198, 0.093, 0.085, 0.163],\n",
    "]\n",
    "\n",
    "replay_paste_mem100 = [\n",
    "\t[0.560], \n",
    "\t[0.462, 0.755], \n",
    "\t[0.360, 0.748, 0.339],\n",
    "\t[0.410, 0.745, 0.297, 0.453],\n",
    "\t[0.330, 0.725, 0.273, 0.417, 0.689],\n",
    "\t[0.304, 0.738, 0.266, 0.420, 0.672, 0.578],\n",
    "\t[0.314, 0.725, 0.235, 0.421, 0.622, 0.496, 0.559],\n",
    "\t[0.244, 0.669, 0.227, 0.360, 0.616, 0.468, 0.461, 0.444],\n",
    "\t[0.347, 0.693, 0.238, 0.402, 0.634, 0.470, 0.486, 0.353, 0.449],\n",
    "\t[0.315, 0.693, 0.208, 0.395, 0.610, 0.495, 0.451, 0.356, 0.368, 0.080]\n",
    "]\n",
    "\n",
    "replay_stfpm_mem100 = [\n",
    "\t[0.516],\n",
    "\t[0.418, 0.796],\n",
    "\t[0.317, 0.750, 0.287],\n",
    "\t[0.258, 0.707, 0.247, 0.395],\n",
    "\t[0.118, 0.628, 0.146, 0.232, 0.505],\n",
    "\t[0.260, 0.722, 0.231, 0.342, 0.589, 0.616],\n",
    "\t[0.165, 0.696, 0.184, 0.228, 0.529, 0.411, 0.485],\n",
    "\t[0.188, 0.664, 0.194, 0.235, 0.557, 0.535, 0.574, 0.350],\n",
    "\t[0.187, 0.707, 0.189, 0.309, 0.571, 0.468, 0.598, 0.324, 0.411],\n",
    "\t[0.186, 0.680, 0.197, 0.312, 0.451, 0.514, 0.562, 0.330, 0.281, 0.105],\n",
    "]\n",
    "\n",
    "compressed_replay_paste_mem100 = [\n",
    "\t[0.564], \n",
    "\t[0.487, 0.763],\n",
    "\t[0.467, 0.728, 0.336],\n",
    "\t[0.428, 0.725, 0.296, 0.452],\n",
    "\t[0.395, 0.732, 0.274, 0.417, 0.699],\n",
    "\t[0.391, 0.714, 0.247, 0.419, 0.633, 0.592],\n",
    "\t[0.324, 0.702, 0.240, 0.435, 0.686, 0.523, 0.558],\n",
    "\t[0.264, 0.701, 0.216, 0.399, 0.630, 0.526, 0.522, 0.440],\n",
    "\t[0.297, 0.726, 0.229, 0.423, 0.660, 0.508, 0.536, 0.367, 0.443],\n",
    "\t[0.299, 0.702, 0.234, 0.379, 0.571, 0.490, 0.506, 0.370, 0.391, 0.095],\n",
    "]\n",
    "\n",
    "quantized_compressed_replay_paste_mem100 = [\n",
    "\t[0.609],\n",
    "\t[0.557, 0.674],\n",
    "\t[0.554, 0.635, 0.255],\n",
    "\t[0.562, 0.623, 0.216, 0.406],\n",
    "\t[0.526, 0.574, 0.191, 0.374, 0.635],\n",
    "\t[0.560, 0.562, 0.188, 0.361, 0.597, 0.470],\n",
    "\t[0.562, 0.549, 0.180, 0.356, 0.576, 0.403, 0.464],\n",
    "\t[0.537, 0.533, 0.158, 0.290, 0.544, 0.375, 0.432, 0.304],\n",
    "\t[0.556, 0.532, 0.168, 0.346, 0.541, 0.349, 0.425, 0.241, 0.282],\n",
    "\t[0.548, 0.503, 0.154, 0.253, 0.504, 0.331, 0.408, 0.200, 0.163, 0.139]\n",
    "]\n",
    "\n",
    "pca_compression_compressed_replay_paste_mem100_variance098 = [\n",
    "\t[0.612],\n",
    "\t[0.556, 0.675],\n",
    "\t[0.558, 0.628, 0.246],\n",
    "\t[0.557, 0.611, 0.208, 0.372],\n",
    "\t[0.534, 0.546, 0.179, 0.341, 0.636],\n",
    "\t[0.551, 0.551, 0.185, 0.318, 0.568, 0.472],\n",
    "\t[0.519, 0.546, 0.170, 0.298, 0.578, 0.427, 0.454],\n",
    "\t[0.491, 0.509, 0.157, 0.273, 0.572, 0.411, 0.405, 0.304],\n",
    "\t[0.505, 0.513, 0.158, 0.304, 0.553, 0.317, 0.391, 0.242, 0.323],\n",
    "\t[0.541, 0.467, 0.152, 0.280, 0.489, 0.290, 0.352, 0.217, 0.199, 0.099],\n",
    "]\n"
   ],
   "outputs": [],
   "execution_count": 46
  },
  {
   "metadata": {
    "ExecuteTime": {
     "end_time": "2024-11-02T17:44:33.884620Z",
     "start_time": "2024-11-02T17:44:33.869537Z"
    }
   },
   "cell_type": "code",
   "source": [
    "def prepare_data(data):\n",
    "    \"\"\"\n",
    "    Prepares learning curve data by calculating the average F1 score of seen tasks at each step.\n",
    "    \n",
    "    Args:\n",
    "        data (list of lists): Each sublist contains F1 scores for seen tasks at that step\n",
    "        \n",
    "    Returns:\n",
    "        list: Average F1 scores for each step (10 values for 10 tasks)\n",
    "    \"\"\"\n",
    "    averages = []\n",
    "    \n",
    "    for task_results in data:\n",
    "        avg = sum(task_results) / len(task_results)\n",
    "        averages.append(round(avg, 3))\n",
    "        \n",
    "    return averages"
   ],
   "id": "d7852b1198741232",
   "outputs": [],
   "execution_count": 47
  },
  {
   "metadata": {
    "ExecuteTime": {
     "end_time": "2024-11-02T17:44:33.916292Z",
     "start_time": "2024-11-02T17:44:33.902738Z"
    }
   },
   "cell_type": "code",
   "source": [
    "num_tasks = 10\n",
    "tasks = np.arange(num_tasks)"
   ],
   "id": "d77c458c9407ba71",
   "outputs": [],
   "execution_count": 48
  },
  {
   "metadata": {
    "ExecuteTime": {
     "end_time": "2024-11-02T17:44:34.133990Z",
     "start_time": "2024-11-02T17:44:33.934397Z"
    }
   },
   "cell_type": "code",
   "source": [
    "plt.figure(figsize=(10, 6))\n",
    "\n",
    "plt.plot(tasks, prepare_data(compressed_replay_paste_mem100), '-', label='Compressed-Replay-100 PASTE', color='green')\n",
    "plt.plot(tasks, prepare_data(replay_stfpm_mem100), '-', label='Replay-100 STFPM', color='orange')\n",
    "plt.plot(tasks, prepare_data(replay_paste_mem100), '-', label='Replay-100 PASTE', color='blue')\n",
    "plt.plot(tasks, joint_training_paste, '-', label='Joint Training PASTE', color='red')\n",
    "plt.plot(tasks, prepare_data(finetuning), '-', label='Fine-Tuning PASTE', color='pink')\n",
    "\n",
    "plt.grid(True)\n",
    "plt.xlabel('Task')\n",
    "plt.ylabel('F1 pixel-level')\n",
    "plt.title('F1 pixel-level results')\n",
    "plt.legend()\n",
    "\n",
    "plt.grid(True, which='minor', linestyle='--', alpha=0.4)\n",
    "plt.grid(True, which='major', linestyle='-', alpha=0.6)\n",
    "\n",
    "plt.tight_layout()\n",
    "\n",
    "layer_dir = os.path.join('plots', 'f1_pixel_level')\n",
    "os.makedirs(layer_dir, exist_ok=True)\n",
    "plot_filename = os.path.join(layer_dir, 'f1_pixel_level.png')\n",
    "plt.savefig(plot_filename)\n",
    "\n",
    "plt.close()"
   ],
   "id": "3c792f5f2b7f127a",
   "outputs": [],
   "execution_count": 49
  },
  {
   "metadata": {
    "ExecuteTime": {
     "end_time": "2024-11-02T17:44:34.379699Z",
     "start_time": "2024-11-02T17:44:34.151630Z"
    }
   },
   "cell_type": "code",
   "source": [
    "plt.figure(figsize=(10, 6))\n",
    "\n",
    "plt.plot(tasks, prepare_data(pca_compression_compressed_replay_paste_mem100_variance098), '-', label='PCA-Compression-Compressed-Replay-100 PASTE', color='blue')\n",
    "plt.plot(tasks, prepare_data(quantized_compressed_replay_paste_mem100), '-', label='Quantized-Compressed-Replay-100 PASTE', color='orange')\n",
    "plt.plot(tasks, prepare_data(compressed_replay_paste_mem100), '-', label='Compressed-Replay-100 PASTE', color='green')\n",
    "plt.plot(tasks, joint_training_paste, '-', label='Joint Training PASTE', color='red')\n",
    "plt.plot(tasks, prepare_data(finetuning), '-', label='Fine-Tuning PASTE', color='pink')\n",
    "\n",
    "plt.grid(True)\n",
    "plt.xlabel('Task')\n",
    "plt.ylabel('F1 pixel-level')\n",
    "plt.title('F1 pixel-level results')\n",
    "plt.legend()\n",
    "\n",
    "plt.grid(True, which='minor', linestyle='--', alpha=0.4)\n",
    "plt.grid(True, which='major', linestyle='-', alpha=0.6)\n",
    "\n",
    "plt.tight_layout()\n",
    "\n",
    "layer_dir = os.path.join('plots', 'f1_pixel_level')\n",
    "os.makedirs(layer_dir, exist_ok=True)\n",
    "plot_filename = os.path.join(layer_dir, 'f1_pixel_level_compression.png')\n",
    "plt.savefig(plot_filename)\n",
    "\n",
    "plt.close()"
   ],
   "id": "cef437ab0b121ece",
   "outputs": [],
   "execution_count": 50
  }
 ],
 "metadata": {
  "kernelspec": {
   "display_name": "Python 3",
   "language": "python",
   "name": "python3"
  },
  "language_info": {
   "codemirror_mode": {
    "name": "ipython",
    "version": 2
   },
   "file_extension": ".py",
   "mimetype": "text/x-python",
   "name": "python",
   "nbconvert_exporter": "python",
   "pygments_lexer": "ipython2",
   "version": "2.7.6"
  }
 },
 "nbformat": 4,
 "nbformat_minor": 5
}
